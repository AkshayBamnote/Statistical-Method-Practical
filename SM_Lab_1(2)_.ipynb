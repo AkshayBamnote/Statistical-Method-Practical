{
  "nbformat": 4,
  "nbformat_minor": 0,
  "metadata": {
    "colab": {
      "private_outputs": true,
      "provenance": []
    },
    "kernelspec": {
      "name": "python3",
      "display_name": "Python 3"
    },
    "language_info": {
      "name": "python"
    }
  },
  "cells": [
    {
      "cell_type": "code",
      "execution_count": null,
      "metadata": {
        "id": "y6Dfcgpod9t_"
      },
      "outputs": [],
      "source": [
        "import pandas as pd\n",
        "import numpy as np"
      ]
    },
    {
      "cell_type": "code",
      "source": [
        "#string\n",
        "country = ['India','Pakistam','USA','Nepal','Srilanka']\n",
        "\n",
        "pd.Series(country)"
      ],
      "metadata": {
        "id": "oqN9S-22eqYG"
      },
      "execution_count": null,
      "outputs": []
    },
    {
      "cell_type": "code",
      "source": [
        "#integers\n",
        "runs =[67,13,24,56,100]\n",
        "\n",
        "runs_ser = pd.Series(runs)"
      ],
      "metadata": {
        "id": "a6C5UJrbeqxf"
      },
      "execution_count": null,
      "outputs": []
    },
    {
      "cell_type": "code",
      "source": [
        "marks = [53,54,56,23,10]\n",
        "subjects = ['english','maths','science','hindi','geography']\n",
        "pd.Series(marks, index = subjects)"
      ],
      "metadata": {
        "id": "UjQXouvBeq8D"
      },
      "execution_count": null,
      "outputs": []
    },
    {
      "cell_type": "code",
      "source": [],
      "metadata": {
        "id": "oXCwKQ-KerF3"
      },
      "execution_count": null,
      "outputs": []
    },
    {
      "cell_type": "code",
      "source": [
        "marks = {\n",
        "    'maths':67,\n",
        "    'english':45,\n",
        "    'maths':56,\n",
        "    'geo':100,\n",
        "    'hindi':50\n",
        "}\n",
        "\n",
        "marks_series = pd.Series(marks,name = 'Ram k Marks')\n",
        "marks_series"
      ],
      "metadata": {
        "id": "BNa6qaC_erRF"
      },
      "execution_count": null,
      "outputs": []
    },
    {
      "cell_type": "code",
      "source": [
        "marks_series.size"
      ],
      "metadata": {
        "id": "-odGnkISercB"
      },
      "execution_count": null,
      "outputs": []
    },
    {
      "cell_type": "code",
      "source": [
        "marks_series.name"
      ],
      "metadata": {
        "id": "3EZt4sRrh4D6"
      },
      "execution_count": null,
      "outputs": []
    },
    {
      "cell_type": "code",
      "source": [
        "marks_series.is_unique\n",
        "\n",
        "pd.Series([1,2,3,4,5,5]).is_unique"
      ],
      "metadata": {
        "id": "T4LSRZyVh4Rt"
      },
      "execution_count": null,
      "outputs": []
    },
    {
      "cell_type": "code",
      "source": [
        "#index\n",
        "marks_series.index"
      ],
      "metadata": {
        "id": "gUzSXmQ_iUTH"
      },
      "execution_count": null,
      "outputs": []
    },
    {
      "cell_type": "code",
      "source": [
        "runs_ser.values"
      ],
      "metadata": {
        "id": "Z284mnEjiUdJ"
      },
      "execution_count": null,
      "outputs": []
    },
    {
      "cell_type": "code",
      "source": [
        "#withh one col\n",
        "subs = pd.read_csv('subs.csv' , squeeze = True)\n",
        "subs"
      ],
      "metadata": {
        "id": "_Hmg2dztiUoW"
      },
      "execution_count": null,
      "outputs": []
    },
    {
      "cell_type": "code",
      "source": [
        "# with two col\n",
        "vk = pd.read_csv('kohli_ipl.csv' , index_col = 'match_no', squeeze = True)\n",
        "vk"
      ],
      "metadata": {
        "id": "KNTzxmzZjflm"
      },
      "execution_count": null,
      "outputs": []
    },
    {
      "cell_type": "code",
      "source": [
        "vk.size"
      ],
      "metadata": {
        "id": "eN3wnrIkkt7z"
      },
      "execution_count": null,
      "outputs": []
    },
    {
      "cell_type": "code",
      "source": [
        "movies = pd.read_csv('bollywood.csv', index_col = 'movie', squeeze = True)\n",
        "movies"
      ],
      "metadata": {
        "id": "cP6iTQugkuFJ"
      },
      "execution_count": null,
      "outputs": []
    },
    {
      "cell_type": "code",
      "source": [
        "movies.head"
      ],
      "metadata": {
        "id": "iiwWNtpZkuct"
      },
      "execution_count": null,
      "outputs": []
    },
    {
      "cell_type": "code",
      "source": [
        "movies.sample(5)"
      ],
      "metadata": {
        "id": "hexfbATxkunu"
      },
      "execution_count": null,
      "outputs": []
    },
    {
      "cell_type": "code",
      "source": [
        "movies.value_counts()"
      ],
      "metadata": {
        "id": "_YWwe78Ukuyo"
      },
      "execution_count": null,
      "outputs": []
    },
    {
      "cell_type": "code",
      "source": [
        "#sort_values -> inplace\n",
        "vk.sort_values(ascending = False).head(1).values[0]"
      ],
      "metadata": {
        "id": "T1Efv3A7mdNc"
      },
      "execution_count": null,
      "outputs": []
    },
    {
      "cell_type": "code",
      "source": [
        "movies"
      ],
      "metadata": {
        "id": "eVqhUOY9mdXo"
      },
      "execution_count": null,
      "outputs": []
    },
    {
      "cell_type": "code",
      "source": [
        "subs.sort_values(ascending = False).head(1).values[0]"
      ],
      "metadata": {
        "id": "HJ4S_MfjnP3J"
      },
      "execution_count": null,
      "outputs": []
    },
    {
      "cell_type": "code",
      "source": [
        "movies.sort_index(ascending = False, inplace = True)\n",
        "movies"
      ],
      "metadata": {
        "id": "oSMGuXPznP-Z"
      },
      "execution_count": null,
      "outputs": []
    },
    {
      "cell_type": "code",
      "source": [
        "subs.sum"
      ],
      "metadata": {
        "id": "w6f_ei10nQH7"
      },
      "execution_count": null,
      "outputs": []
    },
    {
      "cell_type": "code",
      "source": [
        "subs.mean()\n",
        "print(vk.median())\n",
        "print(movies.mode())\n",
        "print(subs.std())\n",
        "print(vk.var())"
      ],
      "metadata": {
        "id": "79rCXuRRmdir"
      },
      "execution_count": null,
      "outputs": []
    },
    {
      "cell_type": "code",
      "source": [
        "#slicing\n",
        "vk[5:16]"
      ],
      "metadata": {
        "id": "nASx1vGzqw1m"
      },
      "execution_count": null,
      "outputs": []
    },
    {
      "cell_type": "code",
      "source": [
        "movies[::2]"
      ],
      "metadata": {
        "id": "1FXQYMnSqw-B"
      },
      "execution_count": null,
      "outputs": []
    },
    {
      "cell_type": "code",
      "source": [
        "vk[[1,2,3,4,5]]"
      ],
      "metadata": {
        "id": "I2OPQw3tqxGD"
      },
      "execution_count": null,
      "outputs": []
    },
    {
      "cell_type": "code",
      "source": [
        "movies['2 States (2014 film)']"
      ],
      "metadata": {
        "id": "96FCxyUyqxPJ"
      },
      "execution_count": null,
      "outputs": []
    },
    {
      "cell_type": "code",
      "source": [
        "marks_series[1] = 100\n",
        "\n",
        "marks_series"
      ],
      "metadata": {
        "id": "JSqkt81cmdua"
      },
      "execution_count": null,
      "outputs": []
    },
    {
      "cell_type": "code",
      "source": [
        "marks_series['evs'] = 100"
      ],
      "metadata": {
        "id": "zOxHpUd_shwb"
      },
      "execution_count": null,
      "outputs": []
    },
    {
      "cell_type": "code",
      "source": [
        "marks_series"
      ],
      "metadata": {
        "id": "k0tp2FeJsh6J"
      },
      "execution_count": null,
      "outputs": []
    },
    {
      "cell_type": "code",
      "source": [
        "'Alia Bhatt' in movies.values"
      ],
      "metadata": {
        "id": "dkb1sabosiDy"
      },
      "execution_count": null,
      "outputs": []
    },
    {
      "cell_type": "code",
      "source": [
        "#Arithmatic Operators\n",
        "100 + marks_series"
      ],
      "metadata": {
        "id": "hIPP0yYesiNO"
      },
      "execution_count": null,
      "outputs": []
    },
    {
      "cell_type": "code",
      "source": [
        "vk >= 10"
      ],
      "metadata": {
        "id": "sUu-Pv8bsiak"
      },
      "execution_count": null,
      "outputs": []
    },
    {
      "cell_type": "markdown",
      "source": [
        "Boolean Indexing on Series\n"
      ],
      "metadata": {
        "id": "xJ4sGdxvtxbQ"
      }
    },
    {
      "cell_type": "code",
      "source": [
        "vk[vk >= 50].size"
      ],
      "metadata": {
        "id": "ioxqdNd_tNAI"
      },
      "execution_count": null,
      "outputs": []
    },
    {
      "cell_type": "code",
      "source": [
        "vk[vk==0].size"
      ],
      "metadata": {
        "id": "Vf3qi_J2tPPV"
      },
      "execution_count": null,
      "outputs": []
    },
    {
      "cell_type": "code",
      "source": [
        "subs[subs > 200].size"
      ],
      "metadata": {
        "id": "HKOKTMePtPYp"
      },
      "execution_count": null,
      "outputs": []
    },
    {
      "cell_type": "code",
      "source": [],
      "metadata": {
        "id": "xYKYD7qptPgw"
      },
      "execution_count": null,
      "outputs": []
    },
    {
      "cell_type": "code",
      "source": [
        "num_movies = movies.value_counts()\n",
        "num_movies[num_movies > 20]"
      ],
      "metadata": {
        "id": "46EyCUg_tPoU"
      },
      "execution_count": null,
      "outputs": []
    },
    {
      "cell_type": "markdown",
      "source": [
        "Plotting Graphs"
      ],
      "metadata": {
        "id": "X6XCPkvCudyJ"
      }
    },
    {
      "cell_type": "code",
      "source": [
        "subs.plot()"
      ],
      "metadata": {
        "id": "92P5X2zktPwx"
      },
      "execution_count": null,
      "outputs": []
    },
    {
      "cell_type": "code",
      "source": [
        "movies.value_counts().head(20).plot(kind = 'pie')"
      ],
      "metadata": {
        "id": "MDLN4lrvtP4n"
      },
      "execution_count": null,
      "outputs": []
    },
    {
      "cell_type": "code",
      "source": [
        "#astype\n",
        "import sys\n",
        "sys.getsizeof(vk.astype('int16'))"
      ],
      "metadata": {
        "id": "6Iv8x_uQtQr7"
      },
      "execution_count": null,
      "outputs": []
    },
    {
      "cell_type": "code",
      "source": [
        "vk[vk.between(51,99)].size"
      ],
      "metadata": {
        "id": "OgCUKELXvr_N"
      },
      "execution_count": null,
      "outputs": []
    },
    {
      "cell_type": "code",
      "source": [
        "subs"
      ],
      "metadata": {
        "id": "9N54ori-wAru"
      },
      "execution_count": null,
      "outputs": []
    },
    {
      "cell_type": "code",
      "source": [
        "subs.clip(100,200)"
      ],
      "metadata": {
        "id": "GmN3TX14wFJv"
      },
      "execution_count": null,
      "outputs": []
    },
    {
      "cell_type": "code",
      "source": [
        "# drop duplicates\n",
        "temp = pd.Series([1,1,2,2,3])"
      ],
      "metadata": {
        "id": "VyFo5QJ6wHXX"
      },
      "execution_count": null,
      "outputs": []
    },
    {
      "cell_type": "code",
      "source": [
        "temp.drop_duplicates(keep = 'last')"
      ],
      "metadata": {
        "id": "ezWeVcIXwHe2"
      },
      "execution_count": null,
      "outputs": []
    },
    {
      "cell_type": "code",
      "source": [],
      "metadata": {
        "id": "ZjSTPvx-wHma"
      },
      "execution_count": null,
      "outputs": []
    },
    {
      "cell_type": "code",
      "source": [],
      "metadata": {
        "id": "dSs8EBrlwHtP"
      },
      "execution_count": null,
      "outputs": []
    },
    {
      "cell_type": "code",
      "source": [],
      "metadata": {
        "id": "jym5JoVwwH0D"
      },
      "execution_count": null,
      "outputs": []
    }
  ]
}